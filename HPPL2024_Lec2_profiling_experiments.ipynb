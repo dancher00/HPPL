{
  "nbformat": 4,
  "nbformat_minor": 0,
  "metadata": {
    "colab": {
      "provenance": [],
      "include_colab_link": true
    },
    "kernelspec": {
      "name": "python3",
      "display_name": "Python 3"
    },
    "language_info": {
      "name": "python"
    }
  },
  "cells": [
    {
      "cell_type": "markdown",
      "metadata": {
        "id": "view-in-github",
        "colab_type": "text"
      },
      "source": [
        "<a href=\"https://colab.research.google.com/github/dancher00/HPPL/blob/main/HPPL2024_Lec2_profiling_experiments.ipynb\" target=\"_parent\"><img src=\"https://colab.research.google.com/assets/colab-badge.svg\" alt=\"Open In Colab\"/></a>"
      ]
    },
    {
      "cell_type": "markdown",
      "source": [
        "Высокопроизводительные вычисления на языке Python.\n",
        "=====\n",
        "\n",
        "Дополнения к Лекции 1:\n",
        "\n",
        "Nice lectures (in Russian, 2015):\n",
        "\n",
        "https://www.youtube.com/playlist?list=PLlb7e2G7aSpTTNp7HBYzCBByaE1h54ruW\n",
        "\n",
        "Code styling guidelines (optional, but will help you to write readable code):\n",
        "https://peps.python.org/pep-0008/\n",
        "\n",
        "\n",
        "Лекция 2. Профилировка и простейшие методы оптимизации\n",
        "-----\n",
        "\n",
        "* Профилирование (профилировка, profiling) — это процесс измерения производительности программы для выявления участков кода, которые работают медленно или неэффективно.\n",
        "* Цель профилировки - собрать подробную информацию о том, где тратится время и как используются ресурсы (например, ЦПУ, ГПУ, оперативная память) во время выполнения.\n",
        "* Эта информация помогает разработчикам выявлять узкие места (bottlenecks) и оптимизировать свой код.\n",
        "\n",
        "В Python существует несколько профилировщиков разной степени сложности и гранулярности. Начнем с самого простого - `timeit`.\n",
        "\n",
        "`timeit`\n",
        "------\n",
        "```\n",
        "Syntax:\n",
        "timeit.timeit(stmt, setup, timer, number)\n",
        "\n",
        "Parameter:\n",
        "\n",
        "stmt - statement you want to measure; it defaults to ‘pass’.\n",
        "setup - the code that you run before running the stmt; it defaults to ‘pass’. (We generally use this to import the required modules for our code.)\n",
        "timer - timeit.Timer object; it usually has a sensible default value so you don’t have to worry about it.\n",
        "number - number of executions you’d like to run the stmt.\n",
        "\n",
        "Returns the number of seconds it took to execute the code.\n",
        "```\n",
        "\n"
      ],
      "metadata": {
        "id": "lKIJtak8I51U"
      }
    },
    {
      "cell_type": "code",
      "source": [],
      "metadata": {
        "id": "WA40JyYbRF05"
      },
      "execution_count": null,
      "outputs": []
    },
    {
      "cell_type": "markdown",
      "source": [
        "**Обсудить:**\n",
        "* работа с Linux\n",
        "* загрузка и чтение файлов\n",
        "* лабораторная работа с ответами"
      ],
      "metadata": {
        "id": "ZhQ4ZkL3_Gdv"
      }
    },
    {
      "cell_type": "code",
      "source": [
        "# importing the required module\n",
        "import timeit\n",
        "\n",
        "# code snippet to be executed only once\n",
        "mysetup = \"import numpy as np\"\n",
        "\n",
        "# code snippet whose execution time is to be measured\n",
        "mycode = '''\n",
        "def sum(a,b):\n",
        "    return a+b\n",
        "a=sum(10,20)\n",
        "'''\n",
        "\n",
        "# timeit statement\n",
        "print(timeit.timeit(setup=mysetup,\n",
        "                    stmt=mycode,\n",
        "                    number=10000))\n",
        "\n",
        "print(timeit.repeat(setup=mysetup,\n",
        "                    stmt=mycode,\n",
        "                    repeat=5,\n",
        "                    number=10000))"
      ],
      "metadata": {
        "id": "CjdaQUj2PEt3"
      },
      "execution_count": null,
      "outputs": []
    },
    {
      "cell_type": "code",
      "source": [
        "# через CLI\n",
        "# python -m timeit -s \"import numpy as np\" -n 1000 -r 10 \"x=10+20\"\n",
        "!python -m timeit -s \"import numpy as np\" -n 1000 -r 10 \"x=10+20\""
      ],
      "metadata": {
        "id": "TvAqoyqSTxfB"
      },
      "execution_count": null,
      "outputs": []
    },
    {
      "cell_type": "code",
      "source": [
        "# более удобно как магия строки (line magic) или магия клетки (cell magic)\n",
        "# (аргументы -n -r опциональны)\n",
        "%timeit -n 1000 -r 10 x=10+20"
      ],
      "metadata": {
        "id": "c8v5eDdpWast"
      },
      "execution_count": null,
      "outputs": []
    },
    {
      "cell_type": "code",
      "source": [
        "# магия клетки (cell magic)\n",
        "%%timeit\n",
        "\n",
        "x = 10 + 20\n",
        "y = 'hello' + ' world'"
      ],
      "metadata": {
        "id": "E-s07QbvWwvC"
      },
      "execution_count": null,
      "outputs": []
    },
    {
      "cell_type": "markdown",
      "source": [
        "Эксперименты\n",
        "----"
      ],
      "metadata": {
        "id": "Lf8NKPQHas7G"
      }
    },
    {
      "cell_type": "code",
      "source": [
        "import numpy as np\n",
        "\n",
        "a = np.ones(2**20, dtype=np.int32)\n",
        "\n",
        "# operator: op  (+)\n",
        "# unity   : 0\n",
        "# a[0]  op   a[1]   op    a[2]  . ..\n",
        "# commutative  a op b  =  b op a\n",
        "# associative  (a op b) op c  = a op (b op c)\n",
        "\n",
        "\n",
        "def my_reduce(a):\n",
        "    res = 0\n",
        "    for element in a:\n",
        "        res = res + element\n",
        "    return res\n"
      ],
      "metadata": {
        "id": "Etf9gyi6XViL"
      },
      "execution_count": null,
      "outputs": []
    },
    {
      "cell_type": "code",
      "source": [
        "%%timeit -n 200 -r 2\n",
        "my_reduce(a)"
      ],
      "metadata": {
        "id": "ZUOKDllHarHL",
        "colab": {
          "base_uri": "https://localhost:8080/"
        },
        "outputId": "815aba64-ac2a-48fe-da7d-10f17e778372"
      },
      "execution_count": null,
      "outputs": [
        {
          "output_type": "stream",
          "name": "stdout",
          "text": [
            "118 ms ± 3.71 ms per loop (mean ± std. dev. of 2 runs, 200 loops each)\n"
          ]
        }
      ]
    },
    {
      "cell_type": "code",
      "source": [
        "from functools import reduce\n",
        "\n",
        "def operator(a, b):\n",
        "    return a+b\n"
      ],
      "metadata": {
        "id": "AlkCuyf65j2j"
      },
      "execution_count": null,
      "outputs": []
    },
    {
      "cell_type": "code",
      "source": [
        "%%timeit -n 20 -r 2\n",
        "reduce(lambda x,y: x+y, a)"
      ],
      "metadata": {
        "id": "_8htjgWY5tJZ",
        "colab": {
          "base_uri": "https://localhost:8080/"
        },
        "outputId": "3a0fe1e0-1a3b-4690-b4f9-05b98399d00c"
      },
      "execution_count": null,
      "outputs": [
        {
          "output_type": "stream",
          "name": "stdout",
          "text": [
            "155 ms ± 555 µs per loop (mean ± std. dev. of 2 runs, 20 loops each)\n"
          ]
        }
      ]
    },
    {
      "cell_type": "code",
      "source": [
        "def op_sum(a,b):\n",
        "    return a+b\n",
        "\n",
        "\n",
        "\n",
        "def my_reduce_2(a, op, unity):\n",
        "    '''\n",
        "    op(a,b)\n",
        "    '''\n",
        "    res = unity\n",
        "    for element in a:\n",
        "        res = op(res, element)\n",
        "    return res"
      ],
      "metadata": {
        "id": "E8XxufojZ_rd"
      },
      "execution_count": null,
      "outputs": []
    },
    {
      "cell_type": "code",
      "source": [
        "print(my_reduce(a))\n",
        "print(my_reduce_2(a, op_sum, 0))\n",
        "print(my_reduce_2(a, lambda x,y: x+y, 0))\n",
        "print(my_reduce_2(a, lambda x,y: x*y, 1))"
      ],
      "metadata": {
        "id": "_rESFuRLaVYB"
      },
      "execution_count": null,
      "outputs": []
    },
    {
      "cell_type": "code",
      "source": [
        "%%timeit\n",
        "my_reduce(a)"
      ],
      "metadata": {
        "id": "YCrz-d4Yauai"
      },
      "execution_count": null,
      "outputs": []
    },
    {
      "cell_type": "code",
      "source": [
        "%%timeit\n",
        "my_reduce_2(a, op_sum, 0)"
      ],
      "metadata": {
        "id": "cSlLXWCMa2QH"
      },
      "execution_count": null,
      "outputs": []
    },
    {
      "cell_type": "code",
      "source": [
        "%%timeit\n",
        "b = np.sum(a)"
      ],
      "metadata": {
        "id": "2CTnxrEB53yJ"
      },
      "execution_count": null,
      "outputs": []
    },
    {
      "cell_type": "code",
      "source": [
        "# lambda functions\n",
        "f = lambda x: x + 2\n",
        "print(type(f))      # это функция\n",
        "print(f(2.2+1j))\n",
        "\n",
        "# как можно сделать функцию двух переменных:\n",
        "\n",
        "f1 = lambda x,y: x+y\n",
        "f2 = lambda x: lambda y: x+y\n",
        "\n",
        "print(f1(2,4))\n",
        "print(f2(2)(4))"
      ],
      "metadata": {
        "id": "qtsZYEfqDd8Z",
        "colab": {
          "base_uri": "https://localhost:8080/"
        },
        "outputId": "724c3178-de01-4854-e9a1-4d7636698a10"
      },
      "execution_count": null,
      "outputs": [
        {
          "output_type": "stream",
          "name": "stdout",
          "text": [
            "<class 'function'>\n",
            "(4.2+1j)\n",
            "6\n",
            "6\n"
          ]
        }
      ]
    },
    {
      "cell_type": "code",
      "source": [
        "sqr_1 = lambda x: x*x\n",
        "sqr_2 = lambda x: x**2"
      ],
      "metadata": {
        "id": "_82CWtxBDmFL"
      },
      "execution_count": null,
      "outputs": []
    },
    {
      "cell_type": "code",
      "source": [
        "%%timeit\n",
        "sqr_1(10.0+2.0j)"
      ],
      "metadata": {
        "id": "kPHPn1etDmkH",
        "colab": {
          "base_uri": "https://localhost:8080/"
        },
        "outputId": "c8583338-bca8-4a04-d549-6e11fae4e046"
      },
      "execution_count": null,
      "outputs": [
        {
          "output_type": "stream",
          "name": "stdout",
          "text": [
            "73.3 ns ± 1.33 ns per loop (mean ± std. dev. of 7 runs, 10000000 loops each)\n"
          ]
        }
      ]
    },
    {
      "cell_type": "code",
      "source": [
        "%%timeit\n",
        "sqr_2(10.0+2.0j)"
      ],
      "metadata": {
        "id": "hFn2FYjkEwl6",
        "colab": {
          "base_uri": "https://localhost:8080/"
        },
        "outputId": "b71b625e-20f3-4e60-d093-689187044ba2"
      },
      "execution_count": null,
      "outputs": [
        {
          "output_type": "stream",
          "name": "stdout",
          "text": [
            "121 ns ± 27.4 ns per loop (mean ± std. dev. of 7 runs, 10000000 loops each)\n"
          ]
        }
      ]
    },
    {
      "cell_type": "code",
      "source": [
        "my_list = list(range(100000))\n",
        "%timeit list(map(lambda x: x*x, my_list))\n",
        "%timeit [x*x for x in my_list]"
      ],
      "metadata": {
        "id": "UUoB0pwSE2tj",
        "colab": {
          "base_uri": "https://localhost:8080/"
        },
        "outputId": "553d2fe0-8d80-47d2-8ab4-a6ea3bd2ce81"
      },
      "execution_count": null,
      "outputs": [
        {
          "output_type": "stream",
          "name": "stdout",
          "text": [
            "11.7 ms ± 2.83 ms per loop (mean ± std. dev. of 7 runs, 100 loops each)\n",
            "4.62 ms ± 128 µs per loop (mean ± std. dev. of 7 runs, 100 loops each)\n"
          ]
        }
      ]
    },
    {
      "cell_type": "code",
      "source": [],
      "metadata": {
        "id": "DBaKoa1z9IoB"
      },
      "execution_count": null,
      "outputs": []
    },
    {
      "cell_type": "code",
      "source": [
        "# Matrix multiplication\n",
        "\n",
        "nofrows = 100\n",
        "nofcols = 100\n",
        "x = np.random.rand(nofrows,nofcols)\n",
        "y = np.random.rand(nofrows,nofcols)\n",
        "\n",
        "A = np.matmul(x,y)   # matmul\n",
        "B = x@y              # matmul\n",
        "C = x * y            # elementwise\n",
        "\n",
        "%timeit x@y"
      ],
      "metadata": {
        "id": "RZepdAo1Fi8R",
        "colab": {
          "base_uri": "https://localhost:8080/"
        },
        "outputId": "9c79c4e8-4b98-415d-b15c-2de190e1e8a2"
      },
      "execution_count": null,
      "outputs": [
        {
          "output_type": "stream",
          "name": "stdout",
          "text": [
            "109 µs ± 17 µs per loop (mean ± std. dev. of 7 runs, 10000 loops each)\n"
          ]
        }
      ]
    },
    {
      "cell_type": "code",
      "source": [
        "def stupidmatmul(x,y):\n",
        "    '''\n",
        "    Stupid matrix multiplication, assume square matrices\n",
        "    Don't ever multiply matrices this way\n",
        "    '''\n",
        "    z = np.zeros((nofrows,nofcols), dtype=np.double)\n",
        "    for i in range(x.shape[0]):\n",
        "        for j in range(x.shape[0]):\n",
        "            for k in range(x.shape[0]):\n",
        "                z[i,j]=z[i,j]+x[i,k]*y[k,j]\n",
        "\n",
        "    return z"
      ],
      "metadata": {
        "id": "UfoSVqC5LZS9"
      },
      "execution_count": null,
      "outputs": []
    },
    {
      "cell_type": "code",
      "source": [
        "%timeit stupidmatmul(x,y)"
      ],
      "metadata": {
        "id": "eyzC9gyDLdZi",
        "colab": {
          "base_uri": "https://localhost:8080/"
        },
        "outputId": "fd6c92fb-8dc4-4233-f305-2ed928c0ca18"
      },
      "execution_count": null,
      "outputs": [
        {
          "output_type": "stream",
          "name": "stdout",
          "text": [
            "842 ms ± 229 ms per loop (mean ± std. dev. of 7 runs, 1 loop each)\n"
          ]
        }
      ]
    },
    {
      "cell_type": "code",
      "source": [
        "842e-3/100e-6"
      ],
      "metadata": {
        "colab": {
          "base_uri": "https://localhost:8080/"
        },
        "id": "SANCJDrc9gHd",
        "outputId": "90b22375-7082-4ea6-b543-ad4f4c5cf8dc"
      },
      "execution_count": null,
      "outputs": [
        {
          "output_type": "execute_result",
          "data": {
            "text/plain": [
              "8420.0"
            ]
          },
          "metadata": {},
          "execution_count": 20
        }
      ]
    },
    {
      "cell_type": "code",
      "source": [
        "# Monte-Carlo calculation of integrals\n",
        "\n",
        "N = 2**20\n",
        "x = np.random.rand(N)\n",
        "y = np.random.rand(N)\n",
        "\n",
        "# x**2+y**2 < 1\n",
        "def StupidPi(x,y):\n",
        "    counter = 0\n",
        "    for n in range(N):\n",
        "        if(x[n]**2+y[n]**2)<1: counter = counter+1\n",
        "    return counter\n",
        "\n",
        "print(StupidPi(x,y)/N*4)"
      ],
      "metadata": {
        "id": "jabBPRJRLgeR",
        "colab": {
          "base_uri": "https://localhost:8080/"
        },
        "outputId": "e2835801-c5c4-4d9c-9e2f-c68d2e1a01f4"
      },
      "execution_count": null,
      "outputs": [
        {
          "output_type": "stream",
          "name": "stdout",
          "text": [
            "3.145538330078125\n"
          ]
        }
      ]
    },
    {
      "cell_type": "code",
      "source": [
        "x**2+y**2<1"
      ],
      "metadata": {
        "colab": {
          "base_uri": "https://localhost:8080/"
        },
        "id": "lL6onfAi--Pv",
        "outputId": "b8746761-f9e9-4971-9272-ee115252f40f"
      },
      "execution_count": null,
      "outputs": [
        {
          "output_type": "execute_result",
          "data": {
            "text/plain": [
              "array([ True,  True,  True, ..., False,  True,  True])"
            ]
          },
          "metadata": {},
          "execution_count": 22
        }
      ]
    },
    {
      "cell_type": "code",
      "source": [
        "def BetterPi(x,y):\n",
        "    return np.sum(x**2+y**2<1)"
      ],
      "metadata": {
        "id": "GFb1oGSELszM"
      },
      "execution_count": null,
      "outputs": []
    },
    {
      "cell_type": "code",
      "source": [],
      "metadata": {
        "id": "Kb88wDc3_KXQ"
      },
      "execution_count": null,
      "outputs": []
    },
    {
      "cell_type": "code",
      "source": [
        "x**2+y**2<1"
      ],
      "metadata": {
        "id": "ICLYYjrC0LCI"
      },
      "execution_count": null,
      "outputs": []
    },
    {
      "cell_type": "code",
      "source": [
        "%timeit StupidPi(x,y)\n",
        "%timeit BetterPi(x,y)"
      ],
      "metadata": {
        "id": "PpfZg4oOL1bh",
        "colab": {
          "base_uri": "https://localhost:8080/"
        },
        "outputId": "654169c7-032f-44dd-8483-d82ed799cf4c"
      },
      "execution_count": null,
      "outputs": [
        {
          "output_type": "stream",
          "name": "stdout",
          "text": [
            "640 ms ± 9.48 ms per loop (mean ± std. dev. of 7 runs, 1 loop each)\n",
            "10.4 ms ± 894 µs per loop (mean ± std. dev. of 7 runs, 100 loops each)\n"
          ]
        }
      ]
    },
    {
      "cell_type": "code",
      "source": [
        "# Numpy array sorting\n",
        "\n",
        "a = np.random.rand(100).astype(np.float32)\n",
        "sorted_a = np.sort(a)\n",
        "\n",
        "\n",
        "#  0.3+0.6 != 0.6+0.3 in machine arithmetics"
      ],
      "metadata": {
        "id": "h1cSNrJEL4Fh"
      },
      "execution_count": null,
      "outputs": []
    },
    {
      "cell_type": "code",
      "source": [
        "a.dtype"
      ],
      "metadata": {
        "id": "ZU-kLfks0o4P",
        "colab": {
          "base_uri": "https://localhost:8080/"
        },
        "outputId": "8de8d8db-2c18-4b05-8e3b-c9ded20777da"
      },
      "execution_count": null,
      "outputs": [
        {
          "output_type": "execute_result",
          "data": {
            "text/plain": [
              "dtype('float32')"
            ]
          },
          "metadata": {},
          "execution_count": 29
        }
      ]
    },
    {
      "cell_type": "code",
      "source": [
        "print(np.dot(a,a))\n",
        "print(np.dot(sorted_a, sorted_a))\n",
        "\n",
        "\n",
        "np.dot(a,a) == np.dot(sorted_a, sorted_a)    # bad idea\n",
        "\n",
        "np.isclose(np.dot(a,a), np.dot(sorted_a, sorted_a))"
      ],
      "metadata": {
        "id": "BNYKSr-xMTXb",
        "colab": {
          "base_uri": "https://localhost:8080/"
        },
        "outputId": "61a1dbf6-6d56-4b53-d8ed-f2fb6bef78ab"
      },
      "execution_count": null,
      "outputs": [
        {
          "output_type": "stream",
          "name": "stdout",
          "text": [
            "30.333647\n",
            "30.333645\n"
          ]
        },
        {
          "output_type": "execute_result",
          "data": {
            "text/plain": [
              "np.True_"
            ]
          },
          "metadata": {},
          "execution_count": 32
        }
      ]
    },
    {
      "cell_type": "code",
      "source": [
        "a = np.array([2**32-1], dtype=np.uint32)\n",
        "print(a)\n",
        "print(a+1)"
      ],
      "metadata": {
        "id": "98fPCXJPNRFc",
        "colab": {
          "base_uri": "https://localhost:8080/"
        },
        "outputId": "43d96535-cef3-4400-97af-4610e9ef803d"
      },
      "execution_count": null,
      "outputs": [
        {
          "output_type": "stream",
          "name": "stdout",
          "text": [
            "[4294967295]\n",
            "[0]\n"
          ]
        }
      ]
    },
    {
      "cell_type": "code",
      "source": [
        "#     1 1 1 1\n",
        "#   +\n",
        "#     0 0 0 1\n",
        "#     0 0 0 0\n",
        "\n",
        "\n",
        "\n"
      ],
      "metadata": {
        "id": "UwAdIfr8NeDe"
      },
      "execution_count": null,
      "outputs": []
    }
  ]
}