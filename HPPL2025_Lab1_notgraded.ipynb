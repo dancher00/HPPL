{
  "cells": [
    {
      "cell_type": "markdown",
      "metadata": {
        "id": "view-in-github",
        "colab_type": "text"
      },
      "source": [
        "<a href=\"https://colab.research.google.com/github/dancher00/HPPL/blob/main/HPPL2025_Lab1_notgraded.ipynb\" target=\"_parent\"><img src=\"https://colab.research.google.com/assets/colab-badge.svg\" alt=\"Open In Colab\"/></a>"
      ]
    },
    {
      "cell_type": "markdown",
      "metadata": {
        "id": "sq8e87vwyCXm"
      },
      "source": [
        "HPPL 2025\n",
        "===============\n",
        "\n",
        "Seminar 1.\n",
        "---------\n",
        "\n",
        "Where to get help:\n",
        "\n",
        "https://docs.python.org/3/\n",
        "\n",
        "https://docs.python.org/3/tutorial/index.html\n",
        "\n",
        "https://stackoverflow.com/\n",
        "\n",
        "Nice lectures (in Russian, 2015):\n",
        "\n",
        "https://www.youtube.com/playlist?list=PLlb7e2G7aSpTTNp7HBYzCBByaE1h54ruW\n",
        "\n",
        "Code styling guidelines (optional, but will help you to write readable code):\n",
        "https://peps.python.org/pep-0008/\n",
        "\n",
        "Must have skills (strong IMHO):\n",
        "-------\n",
        "\n",
        "1. Python\n",
        "2. git\n",
        "3. Basics of algorithms and datastructures\n",
        "4. Basics of numerical methods (finite differencing, methods for solving PDEs etc)\n",
        "5. Basics of computer architecture\n",
        "6. LaTeX"
      ]
    },
    {
      "cell_type": "code",
      "source": [
        "import numpy as np\n",
        "import matplotlib.pyplot as plt"
      ],
      "metadata": {
        "id": "_Xc5an2iCNzY"
      },
      "execution_count": null,
      "outputs": []
    },
    {
      "cell_type": "code",
      "source": [
        "### standard library\n",
        "a = 1982734592834750928375409287345092873450982730499857290348572309845720938475092387459283\n",
        "b = 2134123487192837649182364978126349876\n",
        "\n",
        "c = a*b\n",
        "print(c)\n",
        "\n",
        "# number\n",
        "c = 4.0\n",
        "\n",
        "# string\n",
        "c = 'Hello, world!'\n",
        "\n",
        "print(c)\n",
        "print(c[4:8])\n",
        "\n",
        "# list (mutable)\n",
        "c = [1, 2.0, 3, 4, 'asdfasdfa', [1,2]]\n",
        "print(c[5][1])\n",
        "print(c[2])\n",
        "c[2]=5\n",
        "print(c[2])\n",
        "\n",
        "\n",
        "# tuple (кортеж, immutable)\n",
        "d = (1, 2.0, 3, 4, 'asdfasdfa', [1,2])\n",
        "\n",
        "# dictionary\n",
        "\n",
        "d = {'tt': [12,3], '444': {'d':2}}\n",
        "print(d['444'])\n",
        "\n"
      ],
      "metadata": {
        "id": "ajc2X6Hlr8up"
      },
      "execution_count": null,
      "outputs": []
    },
    {
      "cell_type": "code",
      "source": [
        "print(range(0,10))\n",
        "\n",
        "for i in range(0, 10):\n",
        "    print(i)\n",
        "\n",
        "c = (1,2,3,4,5,6,7,8,9,0, 'dede')\n",
        "print('#'*8)\n",
        "\n",
        "for i in c:\n",
        "    print(i)\n",
        "\n",
        "# list comprehension\n",
        "my_list = [i for i in range(10)]\n",
        "my_list2 = [i for i in c]\n",
        "my_list3 = list(c)   # cast\n",
        "print(my_list3)\n",
        "\n",
        "my_list.append('new')\n",
        "my_list.reverse()\n",
        "print(my_list)\n"
      ],
      "metadata": {
        "id": "bvcOsrIHuCnE"
      },
      "execution_count": null,
      "outputs": []
    },
    {
      "cell_type": "code",
      "source": [
        "condition = False\n",
        "# print(False==0)\n",
        "\n",
        "if condition:\n",
        "    print('Ok')\n",
        "    # do work\n",
        "else:\n",
        "    print('Not ok')\n",
        "\n",
        "\n",
        "number = -3\n",
        "\n",
        "if number > 0:\n",
        "    print(\">0\")\n",
        "elif number == 0:\n",
        "    print(\"0\")\n",
        "elif number < 0:\n",
        "    print(\"<0\")"
      ],
      "metadata": {
        "id": "cZBSmOtOv_yh"
      },
      "execution_count": null,
      "outputs": []
    },
    {
      "cell_type": "code",
      "source": [
        "def my_func():\n",
        "    print(\"Hello\")\n",
        "\n",
        "def my_sum(a, b):\n",
        "    return a+b\n",
        "\n",
        "#int my_sum(int a, int b) {\n",
        "#    return a + b\n",
        "#}\n",
        "\n",
        "print(my_sum('Hello', ' world'))\n",
        "print(my_sum(1+2j, 3+4j))\n",
        "\n",
        "# main loop\n",
        "# do_wave_equation(params)\n",
        "# do_dielectric_scattering(params)\n",
        "# check_boundaries\n",
        "# visualize"
      ],
      "metadata": {
        "id": "NX8Puvslw_OV"
      },
      "execution_count": null,
      "outputs": []
    },
    {
      "cell_type": "code",
      "source": [
        "%%writefile my_math.py\n",
        "\n",
        "def my_sum(a,b):\n",
        "    return a+b\n",
        "\n",
        "def my_prod(a,b):\n",
        "    return a*b"
      ],
      "metadata": {
        "id": "effm28GkyT0T"
      },
      "execution_count": null,
      "outputs": []
    },
    {
      "cell_type": "code",
      "source": [
        "!cat my_math.py"
      ],
      "metadata": {
        "id": "EvDuuyEDzDF_"
      },
      "execution_count": null,
      "outputs": []
    },
    {
      "cell_type": "code",
      "source": [],
      "metadata": {
        "id": "tWQ34B90mROk"
      },
      "execution_count": null,
      "outputs": []
    },
    {
      "cell_type": "code",
      "source": [
        "y = np.linspace(-20, 20, 1000)\n",
        "f = np.sin(y)\n",
        "\n",
        "#plt.plot(y, f)\n",
        "\n",
        "#plt.xlabel('Ось х', fontsize=22)\n",
        "\n",
        "mylist = [0, 1, 3, 5, 6, 'hello', [0,2,3,4]]\n",
        "\n",
        "d = {'a': 10, 'b': 'hello'}\n",
        "\n",
        "def add(a,b, n=10):\n",
        "    '''This function adds two object\n",
        "    In: a, b\n",
        "    Out: a+b\n",
        "    '''\n",
        "    return a + b\n",
        "\n",
        "def algo(a,b,c):\n",
        "    # calculate\n",
        "    c = add(a,b)\n",
        "\n"
      ],
      "metadata": {
        "id": "--FVyJraCWiP"
      },
      "execution_count": null,
      "outputs": []
    },
    {
      "cell_type": "code",
      "source": [
        "class Point:\n",
        "    def __init__(self, x, y):\n",
        "        self.x = x\n",
        "        self.y = y\n",
        "\n",
        "    def distance_to_zero(self):\n",
        "        return np.sqrt(self.x**2 + self.y**2)\n",
        "\n",
        "    def plot(self):\n",
        "        plt.plot(self.x, self.y, 'o')\n",
        "\n",
        "p = Point(10, 10)\n",
        "\n",
        "p.distance_to_zero()\n",
        "p.plot()"
      ],
      "metadata": {
        "id": "rhBpaAfsC_d-"
      },
      "execution_count": null,
      "outputs": []
    },
    {
      "cell_type": "code",
      "source": [
        "%%timeit\n",
        "l = []\n",
        "for n in range(0, 2**20, 3):\n",
        "    l.append(n)"
      ],
      "metadata": {
        "id": "TDFSQaJcIOD_"
      },
      "execution_count": null,
      "outputs": []
    },
    {
      "cell_type": "code",
      "source": [
        "%%timeit\n",
        "l = [x for x in range(0, 2**20, 3)]"
      ],
      "metadata": {
        "id": "yK-Oc68pI1ox"
      },
      "execution_count": null,
      "outputs": []
    },
    {
      "cell_type": "markdown",
      "source": [
        "aSD\n",
        "\n",
        "$$y = e^{-x^2}$$\n",
        "\n",
        "$$y = \\int_{-\\infty}^{\\infty}x dx$$\n",
        "\n",
        "```C\n",
        "void main() {\n",
        "\n",
        "}\n",
        "```"
      ],
      "metadata": {
        "id": "VoA10-XbDCNl"
      }
    },
    {
      "cell_type": "code",
      "source": [
        "%%writefile add.py\n",
        "\n",
        "def add(a,b):\n",
        "    return a + b"
      ],
      "metadata": {
        "id": "cEa2Ydw1JqzT"
      },
      "execution_count": null,
      "outputs": []
    },
    {
      "cell_type": "code",
      "source": [],
      "metadata": {
        "id": "DyMnfZBZKSMo"
      },
      "execution_count": null,
      "outputs": []
    },
    {
      "cell_type": "code",
      "source": [
        "import add"
      ],
      "metadata": {
        "id": "wreFyZX9J4px"
      },
      "execution_count": null,
      "outputs": []
    },
    {
      "cell_type": "code",
      "source": [
        "add.add('hello',' world')"
      ],
      "metadata": {
        "id": "c5aPDSdvKH73"
      },
      "execution_count": null,
      "outputs": []
    },
    {
      "cell_type": "markdown",
      "metadata": {
        "id": "1r00F07gyCXo"
      },
      "source": [
        "\n",
        "Task 1.\n",
        "------\n",
        "\n",
        "Write a function that takes a string and returns it repeated n times.\n",
        "\n",
        "example:\n",
        "```python\n",
        "def string_multiplier(text, n):\n",
        "    your implementation\n",
        "```\n",
        "```\n",
        "In: string_multiplier('hello', 2)\n",
        "Out: hellohello\n",
        "```"
      ]
    },
    {
      "cell_type": "code",
      "source": [
        "def string_multiplier(text, n):\n",
        "    return text * n\n",
        "\n",
        "print(string_multiplier('hello', 3))"
      ],
      "metadata": {
        "id": "10sl29wmPpGB"
      },
      "execution_count": null,
      "outputs": []
    },
    {
      "cell_type": "markdown",
      "metadata": {
        "id": "LwaxO2kbyCXp"
      },
      "source": [
        "Task 2.\n",
        "------\n",
        "\n",
        "Write a function that takes a number (int) and returns its repetition n times as a number.\n",
        "\n",
        "example:\n",
        "```python\n",
        "def number_repeater(number, n):\n",
        "    your implementation\n",
        "```\n",
        "```\n",
        "In: number_repeater(123, 2)\n",
        "Out: 123123\n",
        "```\n",
        "\n",
        "The task with a start (*optional, but quite useful for future reference*):\n",
        "Check if a number is an integer. If not, display a message. `\"Provide an integer number\"`."
      ]
    },
    {
      "cell_type": "code",
      "source": [
        "def number_repeater(number, n):\n",
        "    if isinstance(n, int):\n",
        "        return int(str(number)*n)\n",
        "    else:\n",
        "        print(\"blbalbabla\")"
      ],
      "metadata": {
        "id": "ILlOxhWeP6_V"
      },
      "execution_count": null,
      "outputs": []
    },
    {
      "cell_type": "code",
      "execution_count": null,
      "metadata": {
        "id": "lAe1eefLyCXp"
      },
      "outputs": [],
      "source": [
        "number_repeater(10, 5.5)"
      ]
    },
    {
      "cell_type": "markdown",
      "metadata": {
        "id": "hCo2UDfYyCXq"
      },
      "source": [
        "Task 3.\n",
        "--------\n",
        "\n",
        "* Generate a list of even numbers from 0 to 99 (inclusive).\n",
        "* Print this list from end to beginning (98, 96 ..., 0)\n",
        "* Write this list to the disk in `comma separated values ​​(csv)` format\n",
        "* Write this sheet to the disk in `binary` format (similar to fwrite in C)\n",
        "* Write this sheet to the disk in `pickle` format\n",
        "* Read the sheet from the disk into another variable in each case, ensuring that the values ​​are equal to in the origibal list\n",
        "* Convert the sheet to a `numpy ndarray`, labeling it, for example, as `x`\n",
        "* Create another `ndarray` `y` equal to the square of the original sheet\n",
        "* Plot `y(x)`, labeling the axes (any names are acceptable, as long as they exist)\n",
        "* Set the font size of axis titles to 16\n",
        "* Set x-axis tick marks to be proportional to 10 (reports 0, 10, 20, 30, 40...)\n",
        "* Set the font size of axis numbers to 14\n",
        "* Save the graph to disk in PNG and PDF formats, setting the resolution to 150 ppi.\n",
        "\n",
        "Hint:\n",
        "* If you don't know something, Yandex or Google can help.\n",
        "* You can look up solutions from colleagues – the main thing is that you know how to do the basics."
      ]
    },
    {
      "cell_type": "code",
      "execution_count": null,
      "metadata": {
        "id": "QfwsRQyxyCXr"
      },
      "outputs": [],
      "source": [
        "l = [x for x in range(0,100, 2)]"
      ]
    },
    {
      "cell_type": "code",
      "source": [
        "print(l[-1::-1])"
      ],
      "metadata": {
        "id": "ltTvdh7iQ34y"
      },
      "execution_count": null,
      "outputs": []
    },
    {
      "cell_type": "code",
      "execution_count": null,
      "metadata": {
        "id": "UdUgnsz2yCXr"
      },
      "outputs": [],
      "source": [
        "np_list = np.array(l)\n",
        "np_list.shape"
      ]
    },
    {
      "cell_type": "code",
      "execution_count": null,
      "metadata": {
        "id": "VHY6syT4yCXs"
      },
      "outputs": [],
      "source": [
        "np.savetxt(\"foo.csv\", np_list, delimiter=\",\")"
      ]
    },
    {
      "cell_type": "code",
      "execution_count": null,
      "metadata": {
        "id": "aBmxF0fvyCXt"
      },
      "outputs": [],
      "source": [
        "np_list2 = np.genfromtxt(\"foo.csv\", delimiter=\",\")"
      ]
    },
    {
      "cell_type": "code",
      "source": [
        "np_list2 == np_list"
      ],
      "metadata": {
        "id": "xcdz56fdSnXn"
      },
      "execution_count": null,
      "outputs": []
    },
    {
      "cell_type": "code",
      "source": [
        "np_list.tofile('list.bin')"
      ],
      "metadata": {
        "id": "p1voXL4nT2Fx"
      },
      "execution_count": null,
      "outputs": []
    },
    {
      "cell_type": "code",
      "source": [
        "my_list2 = np.fromfile('list.bin', dtype = np.int64)"
      ],
      "metadata": {
        "id": "JVSntWO7U33l"
      },
      "execution_count": null,
      "outputs": []
    },
    {
      "cell_type": "code",
      "source": [
        "import pickle\n",
        "\n",
        "file = open('data.pickle', 'wb')\n",
        "\n",
        "# dump information to that file\n",
        "pickle.dump(np_list, file)\n",
        "\n",
        "# close the file\n",
        "file.close()\n",
        "\n"
      ],
      "metadata": {
        "id": "UMe-m8MUVKPm"
      },
      "execution_count": null,
      "outputs": []
    },
    {
      "cell_type": "code",
      "source": [
        "file = open(\"data.pickle\", \"rb\")\n",
        "np_list3 = pickle.load(file)\n",
        "type(np_list3)"
      ],
      "metadata": {
        "id": "A46xKVqoVyXN"
      },
      "execution_count": null,
      "outputs": []
    },
    {
      "cell_type": "code",
      "source": [
        "Ы = 10\n",
        "\n",
        "def функ():\n",
        "    Ы = 5\n",
        "\n",
        "функ()\n",
        "print(Ы)"
      ],
      "metadata": {
        "id": "U5k1xbNfWQbu"
      },
      "execution_count": null,
      "outputs": []
    },
    {
      "cell_type": "code",
      "source": [
        "x = np_list3\n",
        "y = np.sin(x)\n",
        "\n",
        "plt.plot(x, y, lw=3, color='r', ls='--')\n",
        "plt.xlabel('blablabla', fontsize=16)\n",
        "plt.xticks([x for x in range(0,100,10)]);\n",
        "\n",
        "plt.savefig('foo.png', dpi=150)"
      ],
      "metadata": {
        "id": "RzjC0sqHWJlp"
      },
      "execution_count": null,
      "outputs": []
    },
    {
      "cell_type": "code",
      "source": [
        "from IPython.display import Image\n",
        "Image(filename='foo.png')"
      ],
      "metadata": {
        "id": "3JYK6D_AT-0n"
      },
      "execution_count": null,
      "outputs": []
    },
    {
      "cell_type": "code",
      "source": [
        "a"
      ],
      "metadata": {
        "id": "a-XBdsv9UTlv"
      },
      "execution_count": null,
      "outputs": []
    },
    {
      "cell_type": "code",
      "source": [
        "a[0]=10"
      ],
      "metadata": {
        "id": "oQ5NQA-FUV0-"
      },
      "execution_count": null,
      "outputs": []
    },
    {
      "cell_type": "code",
      "source": [
        "a"
      ],
      "metadata": {
        "id": "KA-Djo52UYkt"
      },
      "execution_count": null,
      "outputs": []
    },
    {
      "cell_type": "code",
      "source": [
        "d"
      ],
      "metadata": {
        "id": "frC2YnOFUaPR"
      },
      "execution_count": null,
      "outputs": []
    },
    {
      "cell_type": "markdown",
      "metadata": {
        "id": "AeXaauIjyCXu"
      },
      "source": [
        "Task 4\n",
        "------\n",
        "(Use `numpy` and `matplotlib`)\n",
        "\n",
        "* Generate an N x N matrix of random numbers (make sure you understand how to generate different distributions, but generating uniformly distributed numbers from 0 to 1 will suffice)\n",
        "* Find the maximum value\n",
        "* Plot the matrix (e.g., `plt.imshow`) and plot the location of the point with the maximum value\n",
        "* We assume that the N x N matrix is ​​a mapping of the domain (0, 1) (x) (0, 1) m^2. Label the axes and plot the matrix element with coordinates closest to (0.5m, 0.2m) on the graph.\n",
        "* On a separate graph, draw a matrix plot where all elements outside the circle centered at (0.5m, 0.5m) and with radius (0.25m) are zeroed out."
      ]
    },
    {
      "cell_type": "code",
      "source": [
        "class Matrix:\n",
        "    def __init__(self, N):\n",
        "        self.M = np.random.rand(N, N)\n",
        "        self.M[2,4] *= 100\n",
        "        self.N = N\n",
        "\n",
        "        x = np.linspace(0, 1, N)\n",
        "        y = np.linspace(0, 1, N)\n",
        "\n",
        "        self.x, self.y = np.meshgrid(x, y)\n",
        "        self.u = np.sin(10*self.x) * np.sin(10*self.y)\n",
        "\n",
        "    def plotter(self):\n",
        "        plt.imshow(self.M, origin='lower')\n",
        "        inds = self.find_argmax()\n",
        "        plt.plot(inds[1], inds[0], 'rx', markersize = 16)\n",
        "\n",
        "\n",
        "    def closest(self, coords):\n",
        "        x = np.linspace(0, 1, self.N)\n",
        "        y = np.linspace(0, 1, self.N)\n",
        "\n",
        "        i = np.where(x>coords[0])[0][0]\n",
        "        j = np.where(y>coords[1])[0][0]\n",
        "\n",
        "        self.plotter()\n",
        "        plt.plot(i, j, 'wo', markersize=20)\n",
        "\n",
        "    def find_max(self):\n",
        "        return np.amax(self.M)\n",
        "\n",
        "    def find_argmax(self):\n",
        "        return np.unravel_index(np.argmax(self.M), self.M.shape)\n",
        "\n",
        "    def find_distance(self, c1, c2):\n",
        "        return np.sqrt((c1[0]-c2[0])**2 + (c1[1]-c2[1])**2)\n",
        "\n",
        "\n",
        "\n",
        "    def plotter_units(self):\n",
        "        plt.imshow(self.M, origin='lower',\n",
        "                           extent=[0, 1, 0, 1])\n",
        "        # coords = (0.5, 0.2)\n",
        "\n"
      ],
      "metadata": {
        "id": "28BcbsnLUXqr"
      },
      "execution_count": null,
      "outputs": []
    },
    {
      "cell_type": "code",
      "source": [
        "M = Matrix(100)\n",
        "M.closest((0.6,0.5))\n",
        "#x = np.linspace(0, 1, 1000)\n",
        "#y = x**2\n",
        "#plt.plot(x, y, 'w--')"
      ],
      "metadata": {
        "id": "n3H4Sjx4bdON"
      },
      "execution_count": null,
      "outputs": []
    },
    {
      "cell_type": "code",
      "source": [
        "plt.imshow(M.u)"
      ],
      "metadata": {
        "id": "QWx1JDtUf0Tv"
      },
      "execution_count": null,
      "outputs": []
    },
    {
      "cell_type": "code",
      "source": [
        "def plus(a, b):\n",
        "    return a+b\n",
        "\n",
        "def minus(a,b):\n",
        "    '''This\n",
        "    '''\n",
        "    return a-b"
      ],
      "metadata": {
        "id": "i1ULhZ8AUU6H"
      },
      "execution_count": null,
      "outputs": []
    },
    {
      "cell_type": "code",
      "source": [
        "plus.__code__ = minus.__code__"
      ],
      "metadata": {
        "id": "xLv1NO9cc8XQ"
      },
      "execution_count": null,
      "outputs": []
    },
    {
      "cell_type": "code",
      "source": [
        "plus(1,2)"
      ],
      "metadata": {
        "id": "sP0XMQx6di-n"
      },
      "execution_count": null,
      "outputs": []
    },
    {
      "cell_type": "code",
      "source": [
        "# print(np.amax(A))\n",
        "\n",
        "# np.unravel_index(np.argmax(A), A.shape)\n",
        "# print(A[9,5])"
      ],
      "metadata": {
        "id": "cv9dwBNOaVZ-"
      },
      "execution_count": null,
      "outputs": []
    },
    {
      "cell_type": "markdown",
      "metadata": {
        "id": "N9taWNdRyCXu"
      },
      "source": [
        "Task 5\n",
        "------\n",
        "\n",
        "Given a signal $y=y(t)$, perform a Fourier transform (FFT)\n",
        "\n",
        "* Draw the signal over time, labeling the axes.\n",
        "* Draw the energy spectrum; the signal peak should correspond to a frequency of 1.\n",
        "\n",
        "Given, for example:\n",
        "```python\n",
        "grid_min = -20 * 2 * np.pi\n",
        "grid_max = 20 * 2 * np.pi\n",
        "duration = 5 * np.pi\n",
        "\n",
        "t = np.linspace(-20 * 2 * np.pi, 20 * 2 * np.pi, 1000)\n",
        "y = np.exp(-t**2 / 2 / duration**2) * np.sin(t)\n",
        "\n",
        "plt.plot(t,y)\n",
        "```"
      ]
    },
    {
      "cell_type": "code",
      "source": [
        "grid_min = -20 * 2 * np.pi\n",
        "grid_max = 20 * 2 * np.pi\n",
        "duration = 2 * np.pi\n",
        "\n",
        "t = np.linspace(-20 * 2 * np.pi, 20 * 2 * np.pi, 200)\n",
        "#y = np.exp(-t**2 / 2 / duration**2) * np.sin(t)\n",
        "\n",
        "ampl=[0.0, 0.0, 0.0, 0.0, 0.2, 0.2, 0.1, 0.1, 0.1]\n",
        "\n",
        "for n, a in enumerate(ampl):\n",
        "    if n == 0:\n",
        "        y = a * np.exp(-t**2 / 2 / duration**2) * np.sin((n+1)*t)\n",
        "    else:\n",
        "        y += a * np.exp(-t**2 / 2 / duration**2) * np.sin((n+1)*t)\n",
        "\n",
        "plt.plot(t/2/np.pi, y**2)\n",
        "plt.xlim(-10, 10)"
      ],
      "metadata": {
        "id": "eEn0PHSlD_jn"
      },
      "execution_count": null,
      "outputs": []
    },
    {
      "cell_type": "code",
      "source": [
        "sp = np.fft.fft(y)\n",
        "w = np.fft.fftfreq(len(y), d=t[1]-t[0])\n",
        "\n",
        "plt.plot(w * np.pi * 2, abs(sp)**2, '.-')\n",
        "plt.xlim(0, 10)"
      ],
      "metadata": {
        "id": "SiwZC2k4EZMv"
      },
      "execution_count": null,
      "outputs": []
    },
    {
      "cell_type": "code",
      "source": [
        "iterator = enumerate(ampl)\n",
        "n, a = next(iterator)\n",
        "n, a"
      ],
      "metadata": {
        "id": "yEsoTaDRKW1V"
      },
      "execution_count": null,
      "outputs": []
    },
    {
      "cell_type": "markdown",
      "metadata": {
        "id": "g148pMm2yCXu"
      },
      "source": [
        "Task 6\n",
        "----------\n",
        "\n",
        "Given $N=3$.\n",
        "\n",
        "Looping through `n` from 0 to N (excluding):\n",
        "* Create a directory `data_n`.\n",
        "* Create a dictionary with key `number` and value `n`\n",
        "* Save this dictionary as `json` in the `data_n` directory under the name `config.json`"
      ]
    },
    {
      "cell_type": "code",
      "source": [
        "import os\n",
        "import json\n",
        "\n",
        "N = 3\n",
        "\n",
        "for n in range(N):\n",
        "    dir_name = f'data_{n}'\n",
        "    print(dir_name)\n",
        "    os.mkdir(dir_name)\n",
        "    d = {}\n",
        "    d['number'] = n\n",
        "    with open(os.path.join(dir_name, \"config.json\"), \"w\") as outfile:\n",
        "        json.dump(d, outfile)"
      ],
      "metadata": {
        "id": "sCZ9aULLVlLi"
      },
      "execution_count": null,
      "outputs": []
    },
    {
      "cell_type": "code",
      "source": [
        "!cat data_0/config.json"
      ],
      "metadata": {
        "id": "bbHbjA67WoOJ"
      },
      "execution_count": null,
      "outputs": []
    },
    {
      "cell_type": "markdown",
      "metadata": {
        "id": "J7dxiSM9yCXv"
      },
      "source": [
        "Task 7\n",
        "-------\n",
        "\n",
        "Create the `EyeMatrix` class.\n",
        "* The constructor takes the value `n`, which defaults to 10.\n",
        "* The constructor creates an `n x n` identity matrix\n",
        "* In the class, create a method for drawing the matrix using `imshow`\n",
        "* In the class, create a method for zeroing the matrix.\n",
        "* In the class, create a method for printing (`print`) the matrix trace"
      ]
    },
    {
      "cell_type": "code",
      "source": [],
      "metadata": {
        "id": "DctyO6jCWm0E"
      },
      "execution_count": null,
      "outputs": []
    },
    {
      "cell_type": "code",
      "execution_count": null,
      "metadata": {
        "id": "UfFWQYwryCXv"
      },
      "outputs": [],
      "source": [
        "!lscpu"
      ]
    },
    {
      "cell_type": "code",
      "source": [
        "t = np.linspace(-50 * 2*np.pi, 50*2*np.pi, 100000)\n",
        "\n",
        "def pulse(duration, start):\n",
        "    return np.exp(-(t-start)**2/2/duration**2)*np.sin(t)\n",
        "\n",
        "\n",
        "\n",
        "y=pulse(2*np.pi, 0)\n",
        "\n",
        "\n",
        "y = y + pulse(2*np.pi, 10*2*np.pi)\n",
        "y = y + pulse(2*np.pi, 20*2*np.pi)\n",
        "\n",
        "\n",
        "#plt.plot(t, y)\n",
        "\n",
        "sp = np.fft.fft(y)\n",
        "w = np.fft.fftfreq(len(y), d=t[1]-t[0])\n",
        "\n",
        "plt.plot(w * np.pi * 2, abs(sp)**2, '.-')\n",
        "plt.xlim(0, 2)"
      ],
      "metadata": {
        "id": "U0ew7Qb1LDpU"
      },
      "execution_count": null,
      "outputs": []
    },
    {
      "cell_type": "markdown",
      "source": [],
      "metadata": {
        "id": "98yJNTmyOR1e"
      }
    }
  ],
  "metadata": {
    "kernelspec": {
      "display_name": "Python 3",
      "language": "python",
      "name": "python3"
    },
    "language_info": {
      "codemirror_mode": {
        "name": "ipython",
        "version": 3
      },
      "file_extension": ".py",
      "mimetype": "text/x-python",
      "name": "python",
      "nbconvert_exporter": "python",
      "pygments_lexer": "ipython3",
      "version": "3.7.4"
    },
    "colab": {
      "provenance": [],
      "include_colab_link": true
    }
  },
  "nbformat": 4,
  "nbformat_minor": 0
}